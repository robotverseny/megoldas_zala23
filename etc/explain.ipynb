{
 "cells": [
  {
   "attachments": {},
   "cell_type": "markdown",
   "metadata": {},
   "source": [
    "``` c\n",
    "header: \n",
    "  seq: 2374\n",
    "  stamp: \n",
    "    secs: 1674830086\n",
    "    nsecs: 353587159\n",
    "  frame_id: \"laser\"\n",
    "angle_min: -3.14159274101\n",
    "angle_max: 3.14159274101\n",
    "angle_increment: 0.0140563426539\n",
    "time_increment: 0.00021908475901\n",
    "scan_time: 0.0979308858514\n",
    "range_min: 0.300000011921\n",
    "range_max: 100.0\n",
    "ranges: [7.1479997634887695, 7.1479997634887695, 7.1479997634887695, 7.131999969482422, ...]\n",
    "intensities: [44.0, 53.0, 97.0, 169.0, ...]\n",
    "---\n",
    "```"
   ]
  },
  {
   "cell_type": "code",
   "execution_count": 1,
   "metadata": {},
   "outputs": [
    {
     "name": "stdout",
     "output_type": "stream",
     "text": [
      "/home/he/catkin_ws/src/megoldas_zala23/etc\n"
     ]
    },
    {
     "data": {
      "text/plain": [
       "array([ 7.14799976,  7.14799976,  7.14799976,  7.13199997,  7.13100004,\n",
       "        7.13100004,  7.13100004,  7.14699984,  7.14799976,  6.17999983,\n",
       "        6.1960001 ,  6.21099997,  6.21099997,  6.02400017,  4.77799988,\n",
       "        4.38899994,  4.09399986,  3.8440001 ,  3.61100006,  3.37700009,\n",
       "        3.19099998,  3.01900005,  2.84800005,  2.73600006,  2.6400001 ,\n",
       "        2.6400001 ,  2.43600011,  2.31200004,  2.23399997,  2.15700006,\n",
       "        2.15700006,  2.1730001 ,  2.18700004,  1.89300001,  1.84599996,\n",
       "        1.79999995,  1.76900005,  1.73800004,  1.69099998,  1.64499998,\n",
       "        1.61399996,  1.56700003,  1.53600001,  1.505     ,  1.47500002,\n",
       "        1.42799997,  1.39699996,  1.38100004,  1.35000002,  1.32000005,\n",
       "        1.30400002,  1.28900003,  1.25699997,  1.24199998,  1.22599995,\n",
       "        1.24199998,  1.25699997,  1.273     ,  1.28900003,  1.30400002,\n",
       "        1.32000005,  1.35000002,  1.36600006,  1.39699996,  1.41199994,\n",
       "        1.44400001,  1.45899999,  1.49000001,  1.505     ,  1.53600001,\n",
       "        1.56700003,  1.59899998,  1.63      ,  1.66100001,  1.69099998,\n",
       "        3.704     ,  3.73399997,  3.704     ,         inf,  2.87899995,\n",
       "        2.87899995,  2.89499998,  2.89499998,  2.89499998,  2.91199994,\n",
       "        2.91199994,  2.92799997,  4.20300007,  4.34200001,         inf,\n",
       "               inf,         inf,         inf,         inf,         inf,\n",
       "               inf,         inf,         inf,  3.34599996,  3.32999992,\n",
       "        2.4519999 ,  2.43600011,  2.43600011,  2.43600011,  2.15700006,\n",
       "        2.15700006,  2.15700006,  2.14199996,  2.14199996,  2.14199996,\n",
       "        2.15700006,  2.38899994,  2.38899994,  2.38899994,  0.77700001,\n",
       "        0.77700001,  0.76099998,  0.77700001,  0.792     ,  0.80800003,\n",
       "        0.80800003,  0.80800003,  1.08700001,  1.08700001,  1.102     ,\n",
       "        0.80800003,  0.792     ,  0.792     ,  0.792     ,  0.792     ,\n",
       "        0.792     ,  0.792     ,  0.792     ,  0.80800003,  0.80800003,\n",
       "        0.80800003,  0.80800003,  0.80800003,  0.82300001,  0.82300001,\n",
       "        0.82300001,  0.838     ,  0.838     ,  0.838     ,  0.838     ,\n",
       "        1.19500005,  1.19500005,  1.21099997,  1.21099997,  1.22599995,\n",
       "        1.22599995,  1.24199998,  1.25699997,  1.25699997,  1.273     ,\n",
       "        1.28900003,  1.28900003,  1.30400002,  1.32000005,  0.46700001,\n",
       "        0.45100001,  0.45100001,  0.45100001,  0.43599999,  0.43599999,\n",
       "        0.43599999,  0.41999999,  0.41999999,  0.41999999,  0.419     ,\n",
       "        0.419     ,  0.419     ,  0.403     ,  0.403     ,  0.403     ,\n",
       "        0.40400001,  0.41999999,  0.45100001,  0.45100001,  0.46599999,\n",
       "        0.49599999,  0.49599999,  0.51200002,  1.34899998,  1.38      ,\n",
       "        1.39600003,  1.42799997,  1.45899999,  1.505     ,  1.52100003,\n",
       "        1.56700003,  1.61399996,  1.64499998,  1.69099998,  1.73800004,\n",
       "        1.78499997,  2.81500006,  2.79999995,  2.78399992,  2.76799989,\n",
       "        2.75200009,  2.73600006,  2.72000003,  2.704     ,  2.68799996,\n",
       "        2.67199993,  2.6559999 ,  0.66799998,  0.65200001,  0.63700002,\n",
       "        0.62199998,  0.62199998,  0.62199998,  0.63700002,  0.63700002,\n",
       "        0.63700002,  0.63700002,  0.63700002,  0.65200001,  0.65200001,\n",
       "        0.65200001,  0.30899999,  0.30899999,         inf,  0.30899999,\n",
       "               inf,         inf,         inf,         inf,         inf,\n",
       "               inf,         inf,         inf,         inf,         inf,\n",
       "               inf,         inf,         inf,         inf,         inf,\n",
       "               inf,  2.52900004,  1.73800004,  1.70700002,  1.676     ,\n",
       "        1.676     ,  1.66100001,  1.70700002,  3.00399995,  2.97199988,\n",
       "        2.94099998,  2.92799997,  2.91199994,  2.94099998,  2.86299992,\n",
       "        2.84800005,  2.84800005,  2.81500006,  2.79999995,  2.78399992,\n",
       "        2.76799989,  2.76799989,  2.76799989,  2.75099993,  2.75099993,\n",
       "        2.75099993,  2.7349999 ,  2.7349999 ,  2.7349999 ,  2.75200009,\n",
       "        2.75200009,  2.75200009,  2.76799989,  2.76799989,  2.78399992,\n",
       "        2.78399992,  2.79999995,  2.79999995,  2.84800005,  2.83200002,\n",
       "        2.86299992,  2.86299992,  2.88000011,  0.528     ,  0.528     ,\n",
       "        0.528     ,  0.54400003,         inf,  3.04999995,  3.09699988,\n",
       "        3.17499995,  3.22099996,  3.22099996,  3.28299999,  3.29900002,\n",
       "        3.39299989,  3.39299989,         inf,         inf,         inf,\n",
       "               inf,         inf,  5.32299995,  5.35400009,  5.40100002,\n",
       "        5.46299982,  5.52600002,  8.62699986,  8.61100006,  8.55000019,\n",
       "               inf,  4.52899981,         inf, 10.72500038, 10.6619997 ,\n",
       "        1.35000002,  1.33399999,  1.33399999,  1.32000005,  1.32000005,\n",
       "        1.32000005,  1.30400002,  1.30400002,  0.73000002,  0.699     ,\n",
       "        0.667     ,  0.65100002,  0.65100002,  0.63599998,  0.62099999,\n",
       "        0.62099999,  0.62199998,  0.60600001,  0.60600001,  0.60600001,\n",
       "        0.60600001,  0.58999997,  0.58999997,  0.59100002,  0.59100002,\n",
       "        0.59100002,  0.59100002,  0.59100002,  0.59100002,  0.59100002,\n",
       "        0.59100002,  0.59100002,  0.59100002,  0.60600001,  0.60600001,\n",
       "        0.60600001,  0.60600001,  0.62199998,  0.62199998,  0.63700002,\n",
       "        0.63700002,  0.65200001,  0.65100002,  0.667     ,  0.69800001,\n",
       "        0.72899997,  1.023     ,  0.97799999,  0.94599998,  0.90100002,\n",
       "        0.86900002,  0.82300001,  0.80800003,  0.80800003,  0.80800003,\n",
       "        0.82300001,  0.82300001,  0.82300001,  0.838     ,  0.82300001,\n",
       "        0.82300001,  0.82300001,  0.82300001,  0.838     ,  0.838     ,\n",
       "        0.85399997,  0.85399997,  0.86900002,  0.86900002,  0.88499999,\n",
       "        0.88499999,  0.90100002,  0.91600001,  0.93199998,  0.94700003,\n",
       "        1.14900005,  1.13399994,  1.11800003,  1.102     ,  1.08700001,\n",
       "        1.07099998,  1.05599999,  1.03999996,  1.05599999,  1.07099998,\n",
       "        1.08700001,  1.102     ,  1.11800003,  1.13399994,  1.14900005,\n",
       "        1.17900002,  1.21099997,  1.25699997,  1.273     ,  1.30400002,\n",
       "        1.32000005,  1.35000002,  1.38100004,  1.41199994,  1.44400001,\n",
       "        1.49000001,  1.52100003,         inf,         inf,         inf,\n",
       "        1.69099998,  3.00399995,  2.98799992,  2.97199988,  2.95700002,\n",
       "        2.94099998,  2.92799997,  2.91199994,  2.89499998,  2.89499998,\n",
       "        2.86299992,  2.86299992,  2.84800005,  3.00399995,  3.19099998,\n",
       "        3.28299999,  3.51699996,  3.82800007,  5.24599981,  5.23000002,\n",
       "        5.23000002,  5.35400009,  5.83699989,  7.1960001 ,  7.17999983,\n",
       "        7.17999983,  7.16400003,  7.16400003])"
      ]
     },
     "metadata": {},
     "output_type": "display_data"
    }
   ],
   "source": [
    "import os\n",
    "print(os.getcwd())\n",
    "\n",
    "import numpy as np\n",
    "\n",
    " \n",
    "# using genfromtxt()\n",
    "ranges_data = np.genfromtxt(\"explain1.txt\", delimiter=\",\", dtype=float)\n",
    "display(ranges_data)"
   ]
  },
  {
   "cell_type": "code",
   "execution_count": 2,
   "metadata": {},
   "outputs": [
    {
     "name": "stdout",
     "output_type": "stream",
     "text": [
      "448\n"
     ]
    },
    {
     "data": {
      "image/png": "[encoded data removed]",
      "text/plain": [
       "<Figure size 432x288 with 1 Axes>"
      ]
     },
     "metadata": {
      "needs_background": "light"
     },
     "output_type": "display_data"
    }
   ],
   "source": [
    "hossz = len(ranges_data)\n",
    "print(hossz)\n",
    "\n",
    "import matplotlib.pyplot as plt\n",
    "\n",
    "plt.plot(ranges_data)\n",
    "plt.xticks([0, hossz/4, hossz/2, hossz], ['-90', '0',  '90', '270'])\n",
    "plt.show()\n"
   ]
  },
  {
   "cell_type": "code",
   "execution_count": 3,
   "metadata": {},
   "outputs": [],
   "source": [
    "import math\n",
    "ANGLE_RANGE = 360 # LSN10 LIDAR has 360 degrees scan\n",
    "\n",
    "def getRange(data, angle):\n",
    "    # data: single message from topic /scan\n",
    "    # angle: between -180 to 180 degrees, where 0 degrees is directly to the right\n",
    "    # Outputs length in meters to object with angle in lidar scan field of view\n",
    "    if angle > 269.9:\n",
    "        angle = 269.9\n",
    "    index = len(data) * (angle + 90) / ANGLE_RANGE\n",
    "    dist = data[int(index)]\n",
    "    if math.isinf(dist):\n",
    "        return 10.0\n",
    "    if math.isnan(dist):\n",
    "        return 4.0\n",
    "    return data[int(index)]"
   ]
  },
  {
   "cell_type": "code",
   "execution_count": 4,
   "metadata": {},
   "outputs": [
    {
     "name": "stdout",
     "output_type": "stream",
     "text": [
      "7.164000034332275\n"
     ]
    }
   ],
   "source": [
    "a1 =  getRange(ranges_data,270)\n",
    "print(a1)"
   ]
  },
  {
   "cell_type": "code",
   "execution_count": 5,
   "metadata": {},
   "outputs": [
    {
     "name": "stdout",
     "output_type": "stream",
     "text": [
      "3.141592653589793\n",
      "446\n",
      "[446 447 448 449 446 447 448 449 450]\n"
     ]
    }
   ],
   "source": [
    "angle_min = -3.14159274101\n",
    "angle_max = 3.14159274101\n",
    "angle_increment = 0.0140563426539\n",
    "angles =np.arange(angle_min, angle_max, angle_increment)\n",
    "index = np.where(math.radians(179) < angles)[0][0]\n",
    "print(math.radians(180))\n",
    "print(index)\n",
    "\n",
    "tmp1 = np.arange(index, index+4, 1)\n",
    "\n",
    "tmp2 = np.arange(index, index+5, 1)\n",
    "tmp = np.concatenate((tmp1, tmp2))\n",
    "\n",
    "print(tmp)"
   ]
  },
  {
   "cell_type": "code",
   "execution_count": 6,
   "metadata": {},
   "outputs": [
    {
     "data": {
      "image/png": "[encoded data removed]",
      "text/plain": [
       "<Figure size 432x288 with 1 Axes>"
      ]
     },
     "metadata": {
      "needs_background": "light"
     },
     "output_type": "display_data"
    }
   ],
   "source": [
    "def calcPointPos(range, angle):\n",
    "    x1 = range * math.cos(angle)\n",
    "    y1 = range * math.sin(angle)\n",
    "    return y1, x1 * -1\n",
    "\n",
    "\n",
    "tmp = np.arange(-180, 180, 30)\n",
    "for t in tmp:\n",
    "    tx, ty = calcPointPos(1, math.radians(t))\n",
    "    plt.plot([0, tx], [0, ty], 'y-')\n",
    "    plt.text(tx*1.1, ty*1.1, str(t)+'°', fontsize = 10)\n",
    "\n",
    "\n",
    "\n",
    "x180, y180 = calcPointPos(1, math.radians(180)) \n",
    "#plt.plot([0, x180], [0, y180], '*--')\n",
    "plt.text(x180*1.2, y180*1.2, '+180°', fontsize = 10)\n",
    "\n",
    "x160, y160 = calcPointPos(1, math.radians(160)) \n",
    "plt.plot([0, x160], [0, y160], 'r*--')\n",
    "x_160, y_160 = calcPointPos(1, math.radians(-160)) \n",
    "plt.plot([0, x_160], [0, y_160], 'r*--')\n",
    "\n",
    "x160, y160 = calcPointPos(1, math.radians(160)) \n",
    "plt.plot([0, x160], [0, y160], 'r*--')\n",
    "x160, y160 = calcPointPos(1, math.radians(160)) \n",
    "plt.plot([0, x160], [0, y160], 'r*--')\n",
    "\n",
    "x_150, y_150 = calcPointPos(1, math.radians(-150)) \n",
    "plt.plot([0, x_150], [0, y_150], 'b*--')\n",
    "x_120, y_120 = calcPointPos(1, math.radians(-120)) \n",
    "plt.plot([0, x_120], [0, y_120], 'b*--')\n",
    "\n",
    "x150, y150 = calcPointPos(1, math.radians(150)) \n",
    "plt.plot([0, x150], [0, y150], 'b*--')\n",
    "x120, y120 = calcPointPos(1, math.radians(120)) \n",
    "plt.plot([0, x120], [0, y120], 'b*--')\n",
    "\n",
    "\n",
    "plt.axis('equal')\n",
    "plt.axis('off') \n",
    "plt.tight_layout()\n",
    "plt.arrow(0.0, 0., 0.0, 0.5, head_width=0.2, width= 0.02, head_length=0.2, fc='k', ec='k')\n",
    "\n",
    "#plt.savefig('angles01.svg')\n",
    "plt.show()\n"
   ]
  }
 ],
 "metadata": {
  "kernelspec": {
   "display_name": "Python 3",
   "language": "python",
   "name": "python3"
  },
  "language_info": {
   "codemirror_mode": {
    "name": "ipython",
    "version": 3
   },
   "file_extension": ".py",
   "mimetype": "text/x-python",
   "name": "python",
   "nbconvert_exporter": "python",
   "pygments_lexer": "ipython3",
   "version": "3.6.9"
  },
  "orig_nbformat": 4,
  "vscode": {
   "interpreter": {
    "hash": "31f2aee4e71d21fbe5cf8b01ff0e069b9275f58929596ceb00d14d90e3e16cd6"
   }
  }
 },
 "nbformat": 4,
 "nbformat_minor": 2
}
